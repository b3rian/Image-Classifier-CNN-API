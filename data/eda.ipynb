{
 "cells": [
  {
   "cell_type": "code",
   "execution_count": 20,
   "metadata": {},
   "outputs": [],
   "source": [
    "import tensorflow as tf\n",
    "from input_pipeline2 import get_datasets, get_test_dataset, get_label_map\n",
    "import matplotlib.pyplot as plt\n",
    "import os"
   ]
  },
  {
   "cell_type": "code",
   "execution_count": 22,
   "metadata": {},
   "outputs": [
    {
     "ename": "TypeError",
     "evalue": "load_dataset() got an unexpected keyword argument 'is_training'",
     "output_type": "error",
     "traceback": [
      "\u001b[31m---------------------------------------------------------------------------\u001b[39m",
      "\u001b[31mTypeError\u001b[39m                                 Traceback (most recent call last)",
      "\u001b[36mCell\u001b[39m\u001b[36m \u001b[39m\u001b[32mIn[22]\u001b[39m\u001b[32m, line 11\u001b[39m\n\u001b[32m      9\u001b[39m \u001b[38;5;66;03m# Now correctly get test dataset\u001b[39;00m\n\u001b[32m     10\u001b[39m test_dir = os.path.join(data_dir, \u001b[33m\"\u001b[39m\u001b[33mtest\u001b[39m\u001b[33m\"\u001b[39m)\n\u001b[32m---> \u001b[39m\u001b[32m11\u001b[39m test_ds = \u001b[43mget_test_dataset\u001b[49m\u001b[43m(\u001b[49m\u001b[43mtest_dir\u001b[49m\u001b[43m=\u001b[49m\u001b[43mtest_dir\u001b[49m\u001b[43m,\u001b[49m\u001b[43m \u001b[49m\u001b[43mlabel_map\u001b[49m\u001b[43m=\u001b[49m\u001b[43mlabel_map\u001b[49m\u001b[43m)\u001b[49m\n\u001b[32m     14\u001b[39m \u001b[38;5;28;01mimport\u001b[39;00m\u001b[38;5;250m \u001b[39m\u001b[34;01mnumpy\u001b[39;00m\u001b[38;5;250m \u001b[39m\u001b[38;5;28;01mas\u001b[39;00m\u001b[38;5;250m \u001b[39m\u001b[34;01mnp\u001b[39;00m\n\u001b[32m     16\u001b[39m \u001b[38;5;66;03m# Get one batch from the dataset\u001b[39;00m\n",
      "\u001b[36mFile \u001b[39m\u001b[32md:\\Documents\\Projects\\resnet-vit-comparison\\data\\input_pipeline2.py:139\u001b[39m, in \u001b[36mget_test_dataset\u001b[39m\u001b[34m(test_dir, label_map, batch_size)\u001b[39m\n\u001b[32m    138\u001b[39m \u001b[38;5;28;01mdef\u001b[39;00m\u001b[38;5;250m \u001b[39m\u001b[34mget_test_dataset\u001b[39m(test_dir, label_map, batch_size=\u001b[32m64\u001b[39m):\n\u001b[32m--> \u001b[39m\u001b[32m139\u001b[39m     test_paths, test_labels = load_dataset(test_dir, label_map, split=\u001b[33m'\u001b[39m\u001b[33mtest\u001b[39m\u001b[33m'\u001b[39m)\n\u001b[32m    140\u001b[39m     test_ds = create_dataset(test_paths, test_labels, batch_size=batch_size, split=\u001b[33m\"\u001b[39m\u001b[33mtest\u001b[39m\u001b[33m\"\u001b[39m)\n\u001b[32m    141\u001b[39m     \u001b[38;5;28;01mreturn\u001b[39;00m test_ds\n",
      "\u001b[31mTypeError\u001b[39m: load_dataset() got an unexpected keyword argument 'is_training'"
     ]
    }
   ],
   "source": [
    "# Call the function to get the datasets\n",
    "data_dir = \"D:/Downloads/tiny-224\"\n",
    "train_dir = os.path.join(data_dir, \"train\")\n",
    "label_map = get_label_map(train_dir)\n",
    "\n",
    "# Get train and val datasets\n",
    "train_ds, val_ds = get_datasets(data_dir=data_dir)\n",
    "\n",
    "# Now correctly get test dataset\n",
    "test_dir = os.path.join(data_dir, \"test\")\n",
    "test_ds = get_test_dataset(test_dir=test_dir, label_map=label_map)\n",
    "\n",
    "\n",
    "import numpy as np\n",
    "\n",
    "# Get one batch from the dataset\n",
    "for images, labels in train_ds.take(1):\n",
    "    images = images.numpy()\n",
    "    labels = labels.numpy()\n",
    "    break  # only one batch\n",
    "\n",
    "# Get class indices from one-hot vectors\n",
    "class_indices = np.argmax(labels, axis=1)\n",
    "\n",
    "# Plot the first 16 images\n",
    "plt.figure(figsize=(10, 10))\n",
    "for i in range(16):\n",
    "    ax = plt.subplot(4, 4, i + 1)\n",
    "    img = images[i] + [123.675, 116.28, 103.53]  # Revert ImageNet mean subtraction\n",
    "    img = np.clip(img, 0, 255).astype(\"uint8\")   # Clip and convert for display\n",
    "\n",
    "    plt.imshow(img)\n",
    "    plt.title(f\"Class {class_indices[i]}\")\n",
    "    plt.axis(\"off\")\n",
    "plt.tight_layout()\n",
    "plt.show()\n"
   ]
  },
  {
   "cell_type": "code",
   "execution_count": 32,
   "metadata": {},
   "outputs": [
    {
     "ename": "TypeError",
     "evalue": "load_dataset() got an unexpected keyword argument 'is_training'",
     "output_type": "error",
     "traceback": [
      "\u001b[31m---------------------------------------------------------------------------\u001b[39m",
      "\u001b[31mTypeError\u001b[39m                                 Traceback (most recent call last)",
      "\u001b[36mCell\u001b[39m\u001b[36m \u001b[39m\u001b[32mIn[32]\u001b[39m\u001b[32m, line 8\u001b[39m\n\u001b[32m      6\u001b[39m train_dir = os.path.join(data_dir, \u001b[33m\"\u001b[39m\u001b[33mtest\u001b[39m\u001b[33m\"\u001b[39m)\n\u001b[32m      7\u001b[39m label_map = get_label_map(train_dir)\n\u001b[32m----> \u001b[39m\u001b[32m8\u001b[39m test_ds = \u001b[43mget_test_dataset\u001b[49m\u001b[43m(\u001b[49m\u001b[43mtest_dir\u001b[49m\u001b[43m=\u001b[49m\u001b[43mtrain_dir\u001b[49m\u001b[43m,\u001b[49m\u001b[43m \u001b[49m\u001b[43mlabel_map\u001b[49m\u001b[43m=\u001b[49m\u001b[43mlabel_map\u001b[49m\u001b[43m)\u001b[49m\n\u001b[32m     12\u001b[39m \u001b[38;5;28;01mfor\u001b[39;00m images, labels \u001b[38;5;129;01min\u001b[39;00m train_ds.take(\u001b[32m1\u001b[39m):\n\u001b[32m     13\u001b[39m     \u001b[38;5;28mprint\u001b[39m(\u001b[33m\"\u001b[39m\u001b[33mImage batch shape:\u001b[39m\u001b[33m\"\u001b[39m, images.shape)\n",
      "\u001b[36mFile \u001b[39m\u001b[32md:\\Documents\\Projects\\resnet-vit-comparison\\data\\input_pipeline2.py:139\u001b[39m, in \u001b[36mget_test_dataset\u001b[39m\u001b[34m(test_dir, label_map, batch_size)\u001b[39m\n\u001b[32m    138\u001b[39m \u001b[38;5;28;01mdef\u001b[39;00m\u001b[38;5;250m \u001b[39m\u001b[34mget_test_dataset\u001b[39m(test_dir, label_map, batch_size=\u001b[32m64\u001b[39m):\n\u001b[32m--> \u001b[39m\u001b[32m139\u001b[39m     test_paths, test_labels = load_dataset(test_dir, label_map, split=\u001b[33m'\u001b[39m\u001b[33mtest\u001b[39m\u001b[33m'\u001b[39m)\n\u001b[32m    140\u001b[39m     test_ds = create_dataset(test_paths, test_labels, batch_size=batch_size, split=\u001b[33m\"\u001b[39m\u001b[33mtest\u001b[39m\u001b[33m\"\u001b[39m)\n\u001b[32m    141\u001b[39m     \u001b[38;5;28;01mreturn\u001b[39;00m test_ds\n",
      "\u001b[31mTypeError\u001b[39m: load_dataset() got an unexpected keyword argument 'is_training'"
     ]
    }
   ],
   "source": [
    "data_dir = \"D:/Downloads/tiny-224\"\n",
    " \n",
    "\n",
    "# Get train and val datasets\n",
    "train_ds, val_ds = get_datasets(data_dir=data_dir)\n",
    "train_dir = os.path.join(data_dir, \"test\")\n",
    "label_map = get_label_map(train_dir)\n",
    "test_ds = get_test_dataset(test_dir=train_dir, label_map=label_map)\n",
    "\n",
    " \n",
    "\n",
    "for images, labels in train_ds.take(1):\n",
    "    print(\"Image batch shape:\", images.shape)\n",
    "    print(\"Label batch shape:\", labels.shape)\n",
    "    print(\"Pixel range:\", tf.reduce_min(images).numpy(), \"-\", tf.reduce_max(images).numpy())\n",
    "    print(\"Label one-hot check:\", tf.reduce_sum(labels, axis=1)[:5].numpy())\n",
    "\n"
   ]
  }
 ],
 "metadata": {
  "kernelspec": {
   "display_name": "Python 3",
   "language": "python",
   "name": "python3"
  },
  "language_info": {
   "codemirror_mode": {
    "name": "ipython",
    "version": 3
   },
   "file_extension": ".py",
   "mimetype": "text/x-python",
   "name": "python",
   "nbconvert_exporter": "python",
   "pygments_lexer": "ipython3",
   "version": "3.12.10"
  }
 },
 "nbformat": 4,
 "nbformat_minor": 2
}
